{
 "cells": [
  {
   "cell_type": "markdown",
   "source": [
    "## Download the images\n",
    "\n",
    "\n",
    "We can use **GoogleDriveDownloader** form **google_drive_downloader** library in Python to download the shared files from the shared Google drive link: https://drive.google.com/file/d/1f7uslI-ZHidriQFZR966_aILjlkgDN76/view?usp=sharing\n",
    "\n",
    "The file id in the above link is: **1f7uslI-ZHidriQFZR966_aILjlkgDN76**"
   ],
   "metadata": {
    "id": "SfMK5FEhUGde",
    "papermill": {
     "duration": 0.025576,
     "end_time": "2021-08-06T11:11:42.184666",
     "exception": false,
     "start_time": "2021-08-06T11:11:42.159090",
     "status": "completed"
    },
    "tags": []
   }
  },
  {
   "cell_type": "code",
   "execution_count": 1,
   "source": [
    "# from google_drive_downloader import GoogleDriveDownloader as gdd\r\n",
    "\r\n",
    "# gdd.download_file_from_google_drive(file_id='1f7uslI-ZHidriQFZR966_aILjlkgDN76',\r\n",
    "#                                     dest_path='content/eye_gender_data.zip',\r\n",
    "#                                     unzip=True)"
   ],
   "outputs": [],
   "metadata": {
    "execution": {
     "iopub.execute_input": "2021-08-06T11:11:42.260476Z",
     "iopub.status.busy": "2021-08-06T11:11:42.259768Z",
     "iopub.status.idle": "2021-08-06T11:11:42.266032Z",
     "shell.execute_reply": "2021-08-06T11:11:42.264234Z",
     "shell.execute_reply.started": "2021-08-06T10:50:17.650061Z"
    },
    "id": "5_1BysB4Re7f",
    "outputId": "1266b376-bd74-4d9d-a57c-be0b4869f307",
    "papermill": {
     "duration": 0.049788,
     "end_time": "2021-08-06T11:11:42.266240",
     "exception": false,
     "start_time": "2021-08-06T11:11:42.216452",
     "status": "completed"
    },
    "tags": []
   }
  },
  {
   "cell_type": "markdown",
   "source": [
    "We have all the files from the shared Google drive link downloaded in the colab environment."
   ],
   "metadata": {
    "id": "SM_FDQgXbh_-",
    "papermill": {
     "duration": 0.031604,
     "end_time": "2021-08-06T11:11:42.332764",
     "exception": false,
     "start_time": "2021-08-06T11:11:42.301160",
     "status": "completed"
    },
    "tags": []
   }
  },
  {
   "cell_type": "markdown",
   "source": [
    "## Loading Libraries\n",
    "All Python capabilities are not loaded to our working environment by default (even they are already installed in your system). So, we import each and every library that we want to use.\n",
    "\n",
    "We chose alias names for our libraries for the sake of our convenience (numpy --> np and pandas --> pd, tensorlow --> tf).\n",
    "\n",
    "Note: You can import all the libraries that you think will be required or can import it as you go along."
   ],
   "metadata": {
    "id": "wsIqjb7Ebs3B",
    "papermill": {
     "duration": 0.024844,
     "end_time": "2021-08-06T11:11:42.379405",
     "exception": false,
     "start_time": "2021-08-06T11:11:42.354561",
     "status": "completed"
    },
    "tags": []
   }
  },
  {
   "cell_type": "code",
   "execution_count": 2,
   "source": [
    "import pandas as pd                                     # Data analysis and manipultion tool\r\n",
    "import numpy as np                                      # Fundamental package for linear algebra and multidimensional arrays\r\n",
    "import tensorflow as tf                                 # Deep Learning Tool\r\n",
    "import os                                               # OS module in Python provides a way of using operating system dependent functionality\r\n",
    "import cv2                                              # Library for image processing\r\n",
    "from sklearn.model_selection import train_test_split    # For splitting the data into train and validation set\r\n",
    "from sklearn.metrics import f1_score"
   ],
   "outputs": [],
   "metadata": {
    "execution": {
     "iopub.execute_input": "2021-08-06T11:11:42.528969Z",
     "iopub.status.busy": "2021-08-06T11:11:42.528148Z",
     "iopub.status.idle": "2021-08-06T11:11:47.431459Z",
     "shell.execute_reply": "2021-08-06T11:11:47.432389Z",
     "shell.execute_reply.started": "2021-08-06T10:50:17.713584Z"
    },
    "id": "BIe16kmoUmhr",
    "papermill": {
     "duration": 5.029184,
     "end_time": "2021-08-06T11:11:47.432590",
     "exception": false,
     "start_time": "2021-08-06T11:11:42.403406",
     "status": "completed"
    },
    "tags": []
   }
  },
  {
   "cell_type": "markdown",
   "source": [
    "## Loading and preparing training data\n"
   ],
   "metadata": {
    "id": "IAXqCpedduVx",
    "papermill": {
     "duration": 0.021169,
     "end_time": "2021-08-06T11:11:47.478698",
     "exception": false,
     "start_time": "2021-08-06T11:11:47.457529",
     "status": "completed"
    },
    "tags": []
   }
  },
  {
   "cell_type": "code",
   "execution_count": 3,
   "source": [
    "labels = pd.read_csv(\"../input/gendereyedetection/eye_gender_data/Training_set.csv\")   # loading the labels\n",
    "file_paths = [[fname, '../input/gendereyedetection/eye_gender_data/train/' + fname] for fname in labels['filename']]\n",
    "images = pd.DataFrame(file_paths, columns=['filename', 'filepaths'])\n",
    "train_data = pd.merge(images, labels, how = 'inner', on = 'filename')\n",
    "\n",
    "data = []     # initialize an empty numpy array\n",
    "image_size = 105      # image size taken is 100 here. one can take other size too\n",
    "for i in range(len(train_data)):\n",
    "  \n",
    "  img_array = cv2.imread(train_data['filepaths'][i], cv2.IMREAD_GRAYSCALE)   # converting the image to gray scale\n",
    "  new_img_array = cv2.resize(img_array, (image_size, image_size))      # resizing the image array\n",
    "      #new_img_array = img_array.resize(100,100)\n",
    "  data.append([new_img_array, train_data['label'][i]])\n"
   ],
   "outputs": [],
   "metadata": {
    "execution": {
     "iopub.execute_input": "2021-08-06T11:11:47.526676Z",
     "iopub.status.busy": "2021-08-06T11:11:47.525940Z",
     "iopub.status.idle": "2021-08-06T11:12:41.190331Z",
     "shell.execute_reply": "2021-08-06T11:12:41.189327Z",
     "shell.execute_reply.started": "2021-08-06T10:50:23.042486Z"
    },
    "id": "vMXmX8g3dflK",
    "papermill": {
     "duration": 53.690813,
     "end_time": "2021-08-06T11:12:41.190566",
     "exception": false,
     "start_time": "2021-08-06T11:11:47.499753",
     "status": "completed"
    },
    "tags": []
   }
  },
  {
   "cell_type": "code",
   "execution_count": 4,
   "source": [
    "train_data.head()"
   ],
   "outputs": [
    {
     "output_type": "execute_result",
     "data": {
      "text/plain": [
       "      filename                                          filepaths   label\n",
       "0  Image_1.jpg  ../input/gendereyedetection/eye_gender_data/tr...    male\n",
       "1  Image_2.jpg  ../input/gendereyedetection/eye_gender_data/tr...  female\n",
       "2  Image_3.jpg  ../input/gendereyedetection/eye_gender_data/tr...  female\n",
       "3  Image_4.jpg  ../input/gendereyedetection/eye_gender_data/tr...  female\n",
       "4  Image_5.jpg  ../input/gendereyedetection/eye_gender_data/tr...    male"
      ],
      "text/html": [
       "<div>\n",
       "<style scoped>\n",
       "    .dataframe tbody tr th:only-of-type {\n",
       "        vertical-align: middle;\n",
       "    }\n",
       "\n",
       "    .dataframe tbody tr th {\n",
       "        vertical-align: top;\n",
       "    }\n",
       "\n",
       "    .dataframe thead th {\n",
       "        text-align: right;\n",
       "    }\n",
       "</style>\n",
       "<table border=\"1\" class=\"dataframe\">\n",
       "  <thead>\n",
       "    <tr style=\"text-align: right;\">\n",
       "      <th></th>\n",
       "      <th>filename</th>\n",
       "      <th>filepaths</th>\n",
       "      <th>label</th>\n",
       "    </tr>\n",
       "  </thead>\n",
       "  <tbody>\n",
       "    <tr>\n",
       "      <th>0</th>\n",
       "      <td>Image_1.jpg</td>\n",
       "      <td>../input/gendereyedetection/eye_gender_data/tr...</td>\n",
       "      <td>male</td>\n",
       "    </tr>\n",
       "    <tr>\n",
       "      <th>1</th>\n",
       "      <td>Image_2.jpg</td>\n",
       "      <td>../input/gendereyedetection/eye_gender_data/tr...</td>\n",
       "      <td>female</td>\n",
       "    </tr>\n",
       "    <tr>\n",
       "      <th>2</th>\n",
       "      <td>Image_3.jpg</td>\n",
       "      <td>../input/gendereyedetection/eye_gender_data/tr...</td>\n",
       "      <td>female</td>\n",
       "    </tr>\n",
       "    <tr>\n",
       "      <th>3</th>\n",
       "      <td>Image_4.jpg</td>\n",
       "      <td>../input/gendereyedetection/eye_gender_data/tr...</td>\n",
       "      <td>female</td>\n",
       "    </tr>\n",
       "    <tr>\n",
       "      <th>4</th>\n",
       "      <td>Image_5.jpg</td>\n",
       "      <td>../input/gendereyedetection/eye_gender_data/tr...</td>\n",
       "      <td>male</td>\n",
       "    </tr>\n",
       "  </tbody>\n",
       "</table>\n",
       "</div>"
      ]
     },
     "metadata": {},
     "execution_count": 4
    }
   ],
   "metadata": {
    "execution": {
     "iopub.execute_input": "2021-08-06T11:12:41.239806Z",
     "iopub.status.busy": "2021-08-06T11:12:41.239040Z",
     "iopub.status.idle": "2021-08-06T11:12:41.252036Z",
     "shell.execute_reply": "2021-08-06T11:12:41.252439Z",
     "shell.execute_reply.started": "2021-08-06T10:50:59.002367Z"
    },
    "id": "FldofLw1fCxI",
    "papermill": {
     "duration": 0.040208,
     "end_time": "2021-08-06T11:12:41.252561",
     "exception": false,
     "start_time": "2021-08-06T11:12:41.212353",
     "status": "completed"
    },
    "tags": []
   }
  },
  {
   "cell_type": "code",
   "execution_count": 5,
   "source": [
    "import matplotlib.pyplot as plt\n",
    "plt.matshow(data[1][0])"
   ],
   "outputs": [
    {
     "output_type": "execute_result",
     "data": {
      "text/plain": [
       "<matplotlib.image.AxesImage at 0x7fc1df4fdb10>"
      ]
     },
     "metadata": {},
     "execution_count": 5
    },
    {
     "output_type": "display_data",
     "data": {
      "text/plain": [
       "<Figure size 288x288 with 1 Axes>"
      ],
      "image/png": "[encoded data removed]"
     },
     "metadata": {
      "needs_background": "light"
     }
    }
   ],
   "metadata": {
    "execution": {
     "iopub.execute_input": "2021-08-06T11:12:41.304025Z",
     "iopub.status.busy": "2021-08-06T11:12:41.303290Z",
     "iopub.status.idle": "2021-08-06T11:12:41.597760Z",
     "shell.execute_reply": "2021-08-06T11:12:41.599088Z",
     "shell.execute_reply.started": "2021-08-06T10:50:59.023871Z"
    },
    "papermill": {
     "duration": 0.322805,
     "end_time": "2021-08-06T11:12:41.599373",
     "exception": false,
     "start_time": "2021-08-06T11:12:41.276568",
     "status": "completed"
    },
    "tags": []
   }
  },
  {
   "cell_type": "markdown",
   "source": [
    "## Data Pre-processing\n",
    "It is necessary to bring all the images in the same shape and size, also convert them to their pixel values because all machine learning or deep learning models accepts only the numerical data. Also we need to convert all the labels from categorical to numerical values."
   ],
   "metadata": {
    "id": "BvIxaRD6sn3m",
    "papermill": {
     "duration": 0.027298,
     "end_time": "2021-08-06T11:12:41.674493",
     "exception": false,
     "start_time": "2021-08-06T11:12:41.647195",
     "status": "completed"
    },
    "tags": []
   }
  },
  {
   "cell_type": "code",
   "execution_count": 6,
   "source": [
    "data2= pd.DataFrame(data)\n",
    "data2[0] = data2[0]/255.0\n",
    "data2.shape"
   ],
   "outputs": [
    {
     "output_type": "execute_result",
     "data": {
      "text/plain": [
       "(9220, 2)"
      ]
     },
     "metadata": {},
     "execution_count": 6
    }
   ],
   "metadata": {
    "execution": {
     "iopub.execute_input": "2021-08-06T11:12:41.732205Z",
     "iopub.status.busy": "2021-08-06T11:12:41.731539Z",
     "iopub.status.idle": "2021-08-06T11:12:42.339441Z",
     "shell.execute_reply": "2021-08-06T11:12:42.340116Z",
     "shell.execute_reply.started": "2021-08-06T10:50:59.314943Z"
    },
    "id": "vxPiZCLpsWrd",
    "papermill": {
     "duration": 0.641135,
     "end_time": "2021-08-06T11:12:42.340292",
     "exception": false,
     "start_time": "2021-08-06T11:12:41.699157",
     "status": "completed"
    },
    "tags": []
   }
  },
  {
   "cell_type": "code",
   "execution_count": 7,
   "source": [
    "X_train = data2[0]\n",
    "X_train = X_train.to_numpy()\n",
    "y_train = data2[1]\n",
    "#X_train[0].shape\n",
    "X_train_flat = []\n",
    "for i in range(len(X_train)):\n",
    "  #X_train[i] = X_train[i].reshape(1,(105*105))\n",
    "  X_train_flat.append(X_train[i])\n",
    "#X_train=X_train.reshape(len(X_train),(105*105))\n",
    "y_train = y_train.replace({'male':0,'female':1})\n",
    "import numpy as np\n",
    "X_train_flat = np.array(X_train_flat).reshape(len(X_train),105, 105, 1)\n",
    "X_train_flat.shape"
   ],
   "outputs": [
    {
     "output_type": "execute_result",
     "data": {
      "text/plain": [
       "(9220, 105, 105, 1)"
      ]
     },
     "metadata": {},
     "execution_count": 7
    }
   ],
   "metadata": {
    "execution": {
     "iopub.execute_input": "2021-08-06T11:12:42.400546Z",
     "iopub.status.busy": "2021-08-06T11:12:42.399740Z",
     "iopub.status.idle": "2021-08-06T11:12:42.651746Z",
     "shell.execute_reply": "2021-08-06T11:12:42.652231Z",
     "shell.execute_reply.started": "2021-08-06T10:50:59.893096Z"
    },
    "id": "LOpf3gvXwbT5",
    "papermill": {
     "duration": 0.284893,
     "end_time": "2021-08-06T11:12:42.652390",
     "exception": false,
     "start_time": "2021-08-06T11:12:42.367497",
     "status": "completed"
    },
    "tags": []
   }
  },
  {
   "cell_type": "code",
   "execution_count": 8,
   "source": [
    "X_train_flat, X_valid, y_train, y_valid = train_test_split(X_train_flat,y_train,test_size=0.2)"
   ],
   "outputs": [],
   "metadata": {
    "execution": {
     "iopub.execute_input": "2021-08-06T11:12:42.708833Z",
     "iopub.status.busy": "2021-08-06T11:12:42.707732Z",
     "iopub.status.idle": "2021-08-06T11:12:42.948836Z",
     "shell.execute_reply": "2021-08-06T11:12:42.949242Z",
     "shell.execute_reply.started": "2021-08-06T10:51:00.152777Z"
    },
    "papermill": {
     "duration": 0.270138,
     "end_time": "2021-08-06T11:12:42.949407",
     "exception": false,
     "start_time": "2021-08-06T11:12:42.679269",
     "status": "completed"
    },
    "tags": []
   }
  },
  {
   "cell_type": "code",
   "execution_count": 9,
   "source": [
    "from tensorflow.keras.preprocessing.image import ImageDataGenerator\n",
    "\n",
    "datagen = ImageDataGenerator(\n",
    "    rotation_range=10,  # randomly rotate images in the range (degrees, 0 to 180)\n",
    "    zoom_range=0.1,  # Randomly zoom image\n",
    "    width_shift_range=0.1,  # randomly shift images horizontally (fraction of total width)\n",
    "    height_shift_range=0.1,  # randomly shift images vertically (fraction of total height)\n",
    "    horizontal_flip=True,  # randomly flip images horizontally\n",
    "    vertical_flip=False, # Don't randomly flip images vertically\n",
    ")  "
   ],
   "outputs": [],
   "metadata": {
    "execution": {
     "iopub.execute_input": "2021-08-06T11:12:43.004666Z",
     "iopub.status.busy": "2021-08-06T11:12:43.003977Z",
     "iopub.status.idle": "2021-08-06T11:12:43.007547Z",
     "shell.execute_reply": "2021-08-06T11:12:43.007984Z",
     "shell.execute_reply.started": "2021-08-06T10:51:00.396913Z"
    },
    "papermill": {
     "duration": 0.035324,
     "end_time": "2021-08-06T11:12:43.008122",
     "exception": false,
     "start_time": "2021-08-06T11:12:42.972798",
     "status": "completed"
    },
    "tags": []
   }
  },
  {
   "cell_type": "code",
   "execution_count": 10,
   "source": [
    "import matplotlib.pyplot as plt\n",
    "import numpy as np\n",
    "batch_size = 32\n",
    "img_iter = datagen.flow(X_train_flat, y_train, batch_size=batch_size)\n",
    "\n",
    "x, y = img_iter.next()\n",
    "fig, ax = plt.subplots(nrows=4, ncols=8)\n",
    "for i in range(batch_size):\n",
    "    image = x[i]\n",
    "    ax.flatten()[i].imshow(np.squeeze(image))\n",
    "plt.show()"
   ],
   "outputs": [
    {
     "output_type": "display_data",
     "data": {
      "text/plain": [
       "<Figure size 432x288 with 32 Axes>"
      ],
      "image/png": "[encoded data removed]"
     },
     "metadata": {
      "needs_background": "light"
     }
    }
   ],
   "metadata": {
    "execution": {
     "iopub.execute_input": "2021-08-06T11:12:43.063022Z",
     "iopub.status.busy": "2021-08-06T11:12:43.062059Z",
     "iopub.status.idle": "2021-08-06T11:12:45.420099Z",
     "shell.execute_reply": "2021-08-06T11:12:45.419618Z",
     "shell.execute_reply.started": "2021-08-06T10:51:00.404816Z"
    },
    "papermill": {
     "duration": 2.387058,
     "end_time": "2021-08-06T11:12:45.420222",
     "exception": false,
     "start_time": "2021-08-06T11:12:43.033164",
     "status": "completed"
    },
    "tags": []
   }
  },
  {
   "cell_type": "code",
   "execution_count": 11,
   "source": [
    "datagen.fit(X_train_flat)"
   ],
   "outputs": [],
   "metadata": {
    "execution": {
     "iopub.execute_input": "2021-08-06T11:12:45.483899Z",
     "iopub.status.busy": "2021-08-06T11:12:45.482931Z",
     "iopub.status.idle": "2021-08-06T11:12:45.730845Z",
     "shell.execute_reply": "2021-08-06T11:12:45.730322Z",
     "shell.execute_reply.started": "2021-08-06T10:51:02.560815Z"
    },
    "papermill": {
     "duration": 0.27963,
     "end_time": "2021-08-06T11:12:45.730968",
     "exception": false,
     "start_time": "2021-08-06T11:12:45.451338",
     "status": "completed"
    },
    "tags": []
   }
  },
  {
   "cell_type": "markdown",
   "source": [
    "## Building Model & Hyperparameter tuning\n",
    "Now we are finally ready, and we can train the model.\n"
   ],
   "metadata": {
    "id": "cDCZ53yE7340",
    "papermill": {
     "duration": 0.030449,
     "end_time": "2021-08-06T11:12:45.788758",
     "exception": false,
     "start_time": "2021-08-06T11:12:45.758309",
     "status": "completed"
    },
    "tags": []
   }
  },
  {
   "cell_type": "code",
   "execution_count": 12,
   "source": [
    "from tensorflow import keras\n",
    "from keras import Sequential\n",
    "from keras import layers\n",
    "from tensorflow.keras.models import Sequential\n",
    "from tensorflow.keras.layers import (\n",
    "    Dense,\n",
    "    Conv2D,\n",
    "    MaxPool2D,\n",
    "    Flatten,\n",
    "    Dropout,\n",
    "    BatchNormalization,\n",
    ")\n",
    "\n",
    "model = Sequential()\n",
    "model.add(Conv2D(111, (3, 3), strides=1, padding=\"same\", activation=\"relu\", \n",
    "                 input_shape=(105, 105, 1)))\n",
    "model.add(BatchNormalization())\n",
    "model.add(MaxPool2D((2, 2), strides=2, padding=\"same\"))\n",
    "model.add(Conv2D(80, (3, 3), strides=1, padding=\"same\", activation=\"relu\"))\n",
    "#model.add(Conv2D(70, (3, 3), strides=1, padding=\"same\", activation=\"relu\"))\n",
    "model.add(Dropout(0.2))\n",
    "model.add(BatchNormalization())\n",
    "model.add(MaxPool2D((2, 2), strides=2, padding=\"same\"))\n",
    "model.add(Conv2D(50, (3, 3), strides=1, padding=\"same\", activation=\"relu\"))\n",
    "model.add(BatchNormalization())\n",
    "model.add(MaxPool2D((2, 2), strides=2, padding=\"same\"))\n",
    "model.add(Flatten())\n",
    "model.add(Dense(units=620, activation=\"relu\"))\n",
    "#model.add(Dense(units=501, activation=\"relu\"))\n",
    "model.add(Dropout(0.2))\n",
    "model.add(Dense(units=390, activation=\"relu\"))\n",
    "model.add(Dense(units=1, activation=\"sigmoid\"))\n",
    "model.summary()"
   ],
   "outputs": [
    {
     "output_type": "stream",
     "name": "stdout",
     "text": [
      "Model: \"sequential\"\n",
      "_________________________________________________________________\n",
      "Layer (type)                 Output Shape              Param #   \n",
      "=================================================================\n",
      "conv2d (Conv2D)              (None, 105, 105, 111)     1110      \n",
      "_________________________________________________________________\n",
      "batch_normalization (BatchNo (None, 105, 105, 111)     444       \n",
      "_________________________________________________________________\n",
      "max_pooling2d (MaxPooling2D) (None, 53, 53, 111)       0         \n",
      "_________________________________________________________________\n",
      "conv2d_1 (Conv2D)            (None, 53, 53, 80)        80000     \n",
      "_________________________________________________________________\n",
      "dropout (Dropout)            (None, 53, 53, 80)        0         \n",
      "_________________________________________________________________\n",
      "batch_normalization_1 (Batch (None, 53, 53, 80)        320       \n",
      "_________________________________________________________________\n",
      "max_pooling2d_1 (MaxPooling2 (None, 27, 27, 80)        0         \n",
      "_________________________________________________________________\n",
      "conv2d_2 (Conv2D)            (None, 27, 27, 50)        36050     \n",
      "_________________________________________________________________\n",
      "batch_normalization_2 (Batch (None, 27, 27, 50)        200       \n",
      "_________________________________________________________________\n",
      "max_pooling2d_2 (MaxPooling2 (None, 14, 14, 50)        0         \n",
      "_________________________________________________________________\n",
      "flatten (Flatten)            (None, 9800)              0         \n",
      "_________________________________________________________________\n",
      "dense (Dense)                (None, 620)               6076620   \n",
      "_________________________________________________________________\n",
      "dropout_1 (Dropout)          (None, 620)               0         \n",
      "_________________________________________________________________\n",
      "dense_1 (Dense)              (None, 390)               242190    \n",
      "_________________________________________________________________\n",
      "dense_2 (Dense)              (None, 1)                 391       \n",
      "=================================================================\n",
      "Total params: 6,437,325\n",
      "Trainable params: 6,436,843\n",
      "Non-trainable params: 482\n",
      "_________________________________________________________________\n"
     ]
    }
   ],
   "metadata": {
    "execution": {
     "iopub.execute_input": "2021-08-06T11:12:45.859661Z",
     "iopub.status.busy": "2021-08-06T11:12:45.858816Z",
     "iopub.status.idle": "2021-08-06T11:12:47.977664Z",
     "shell.execute_reply": "2021-08-06T11:12:47.978486Z",
     "shell.execute_reply.started": "2021-08-06T11:04:05.504031Z"
    },
    "id": "kOKWYA6Ua4Uh",
    "papermill": {
     "duration": 2.162269,
     "end_time": "2021-08-06T11:12:47.978662",
     "exception": false,
     "start_time": "2021-08-06T11:12:45.816393",
     "status": "completed"
    },
    "tags": []
   }
  },
  {
   "cell_type": "code",
   "execution_count": 13,
   "source": [
    "from numpy.random import seed\n",
    "from keras.callbacks import EarlyStopping\n",
    "es = EarlyStopping(monitor='val_loss', mode='min', verbose=1, patience=5)\n",
    "tf.random.set_seed(6)\n",
    "model.compile(loss=\"binary_crossentropy\", metrics=[\"accuracy\"], optimizer='adam')"
   ],
   "outputs": [],
   "metadata": {
    "execution": {
     "iopub.execute_input": "2021-08-06T11:12:48.046246Z",
     "iopub.status.busy": "2021-08-06T11:12:48.043297Z",
     "iopub.status.idle": "2021-08-06T11:12:48.049759Z",
     "shell.execute_reply": "2021-08-06T11:12:48.050196Z",
     "shell.execute_reply.started": "2021-08-06T11:04:06.878608Z"
    },
    "id": "ZQWMyQLva53K",
    "papermill": {
     "duration": 0.044453,
     "end_time": "2021-08-06T11:12:48.050341",
     "exception": false,
     "start_time": "2021-08-06T11:12:48.005888",
     "status": "completed"
    },
    "tags": []
   }
  },
  {
   "cell_type": "code",
   "execution_count": 14,
   "source": [
    "model.fit(img_iter,\n",
    "          epochs=12,batch_size=36,\n",
    "          steps_per_epoch=len(X_train_flat)/batch_size, # Run same number of steps we would if we were not using a generator.\n",
    "          validation_data=(X_valid, y_valid), callbacks=[es])"
   ],
   "outputs": [
    {
     "output_type": "stream",
     "name": "stdout",
     "text": [
      "Epoch 1/12\n",
      "230/230 [==============================] - 18s 45ms/step - loss: 1.2812 - accuracy: 0.6221 - val_loss: 1.5660 - val_accuracy: 0.5342\n",
      "Epoch 2/12\n",
      "230/230 [==============================] - 10s 42ms/step - loss: 0.5527 - accuracy: 0.7377 - val_loss: 1.0708 - val_accuracy: 0.5423\n",
      "Epoch 3/12\n",
      "230/230 [==============================] - 9s 39ms/step - loss: 0.4594 - accuracy: 0.7915 - val_loss: 0.4343 - val_accuracy: 0.7842\n",
      "Epoch 4/12\n",
      "230/230 [==============================] - 9s 38ms/step - loss: 0.4145 - accuracy: 0.8250 - val_loss: 0.3717 - val_accuracy: 0.8454\n",
      "Epoch 5/12\n",
      "230/230 [==============================] - 9s 39ms/step - loss: 0.3622 - accuracy: 0.8396 - val_loss: 0.3373 - val_accuracy: 0.8438\n",
      "Epoch 6/12\n",
      "230/230 [==============================] - 11s 47ms/step - loss: 0.3495 - accuracy: 0.8478 - val_loss: 0.3420 - val_accuracy: 0.8536\n",
      "Epoch 7/12\n",
      "230/230 [==============================] - 10s 43ms/step - loss: 0.2916 - accuracy: 0.8788 - val_loss: 0.2884 - val_accuracy: 0.8764\n",
      "Epoch 8/12\n",
      "230/230 [==============================] - 9s 41ms/step - loss: 0.2686 - accuracy: 0.8896 - val_loss: 3.0781 - val_accuracy: 0.5607\n",
      "Epoch 9/12\n",
      "230/230 [==============================] - 10s 43ms/step - loss: 0.2587 - accuracy: 0.8927 - val_loss: 0.8710 - val_accuracy: 0.6784\n",
      "Epoch 10/12\n",
      "230/230 [==============================] - 9s 40ms/step - loss: 0.2425 - accuracy: 0.8982 - val_loss: 0.6195 - val_accuracy: 0.7749\n",
      "Epoch 11/12\n",
      "230/230 [==============================] - 9s 39ms/step - loss: 0.2375 - accuracy: 0.9013 - val_loss: 0.2363 - val_accuracy: 0.8953\n",
      "Epoch 12/12\n",
      "230/230 [==============================] - 10s 44ms/step - loss: 0.2164 - accuracy: 0.9072 - val_loss: 0.2815 - val_accuracy: 0.8845\n"
     ]
    },
    {
     "output_type": "execute_result",
     "data": {
      "text/plain": [
       "<tensorflow.python.keras.callbacks.History at 0x7fc1c00d7390>"
      ]
     },
     "metadata": {},
     "execution_count": 14
    }
   ],
   "metadata": {
    "execution": {
     "iopub.execute_input": "2021-08-06T11:12:48.112362Z",
     "iopub.status.busy": "2021-08-06T11:12:48.111745Z",
     "iopub.status.idle": "2021-08-06T11:14:50.948108Z",
     "shell.execute_reply": "2021-08-06T11:14:50.947571Z",
     "shell.execute_reply.started": "2021-08-06T11:04:07.994527Z"
    },
    "id": "_jkmDd6PbAJH",
    "papermill": {
     "duration": 122.867054,
     "end_time": "2021-08-06T11:14:50.948260",
     "exception": false,
     "start_time": "2021-08-06T11:12:48.081206",
     "status": "completed"
    },
    "tags": []
   }
  },
  {
   "cell_type": "markdown",
   "source": [
    "## Validate the model\n"
   ],
   "metadata": {
    "id": "tc3lSJ2a-OYt",
    "papermill": {
     "duration": 0.45356,
     "end_time": "2021-08-06T11:14:52.133786",
     "exception": false,
     "start_time": "2021-08-06T11:14:51.680226",
     "status": "completed"
    },
    "tags": []
   }
  },
  {
   "cell_type": "code",
   "execution_count": 15,
   "source": [
    "# for train dataset\n",
    "y_pred_train = model.predict(X_train_flat)\n",
    "y_pred_label = []\n",
    "for i in range(len(y_pred_train)):\n",
    "    if(y_pred_train[i]>=0.5):\n",
    "        y_pred_label.append(1)\n",
    "    else:\n",
    "        y_pred_label.append(0)"
   ],
   "outputs": [],
   "metadata": {
    "execution": {
     "iopub.execute_input": "2021-08-06T11:14:53.023308Z",
     "iopub.status.busy": "2021-08-06T11:14:53.022115Z",
     "iopub.status.idle": "2021-08-06T11:14:54.881340Z",
     "shell.execute_reply": "2021-08-06T11:14:54.880846Z",
     "shell.execute_reply.started": "2021-08-06T11:09:02.774323Z"
    },
    "id": "jLfoImV7ds57",
    "papermill": {
     "duration": 2.306342,
     "end_time": "2021-08-06T11:14:54.881508",
     "exception": false,
     "start_time": "2021-08-06T11:14:52.575166",
     "status": "completed"
    },
    "tags": []
   }
  },
  {
   "cell_type": "code",
   "execution_count": 16,
   "source": [
    "model.evaluate(X_train_flat, y_train)"
   ],
   "outputs": [
    {
     "output_type": "stream",
     "name": "stdout",
     "text": [
      "231/231 [==============================] - 2s 8ms/step - loss: 0.2344 - accuracy: 0.9018\n"
     ]
    },
    {
     "output_type": "execute_result",
     "data": {
      "text/plain": [
       "[0.23443055152893066, 0.9018438458442688]"
      ]
     },
     "metadata": {},
     "execution_count": 16
    }
   ],
   "metadata": {
    "execution": {
     "iopub.execute_input": "2021-08-06T11:14:55.766277Z",
     "iopub.status.busy": "2021-08-06T11:14:55.764818Z",
     "iopub.status.idle": "2021-08-06T11:14:57.939396Z",
     "shell.execute_reply": "2021-08-06T11:14:57.939919Z",
     "shell.execute_reply.started": "2021-08-06T11:09:05.898511Z"
    },
    "papermill": {
     "duration": 2.613452,
     "end_time": "2021-08-06T11:14:57.940074",
     "exception": false,
     "start_time": "2021-08-06T11:14:55.326622",
     "status": "completed"
    },
    "tags": []
   }
  },
  {
   "cell_type": "markdown",
   "source": [
    "## Predict The Output For Testing Dataset 😅\n",
    "We have trained our model, evaluated it and now finally we will predict the output/target for the testing data (i.e. Test.csv)."
   ],
   "metadata": {
    "id": "kLrpm-If-lRT",
    "papermill": {
     "duration": 0.441763,
     "end_time": "2021-08-06T11:14:58.867657",
     "exception": false,
     "start_time": "2021-08-06T11:14:58.425894",
     "status": "completed"
    },
    "tags": []
   }
  },
  {
   "cell_type": "markdown",
   "source": [
    "#### Load Test Set\n",
    "Load the test data on which final submission is to be made."
   ],
   "metadata": {
    "id": "nG70J6Un-s2G",
    "papermill": {
     "duration": 0.440614,
     "end_time": "2021-08-06T11:14:59.753433",
     "exception": false,
     "start_time": "2021-08-06T11:14:59.312819",
     "status": "completed"
    },
    "tags": []
   }
  },
  {
   "cell_type": "code",
   "execution_count": 17,
   "source": [
    "test_labels = pd.read_csv(\"../input/gendereyedetection/eye_gender_data/Testing_set.csv\")  \n",
    "test_file_paths = [[fname, \"../input/gendereyedetection/eye_gender_data/test/\" + fname] for fname in labels['filename']]\n",
    "test_images = pd.DataFrame(test_file_paths, columns=['filename', 'filepaths'])\n",
    "test_data = pd.merge(test_images, test_labels, how = 'inner', on = 'filename')\n",
    "#test_data=test_images.copy()\n",
    "\n",
    "data = []     # initialize an empty numpy array\n",
    "test_image_size = 105      # image size taken is 100 here. one can take other size too\n",
    "for i in range(len(test_data)):\n",
    "  \n",
    "  img_array = cv2.imread(test_data['filepaths'][i], cv2.IMREAD_GRAYSCALE)   # converting the image to gray scale\n",
    "  new_img_array = cv2.resize(img_array, (test_image_size, test_image_size))      # resizing the image array\n",
    "      #new_img_array = img_array.resize(100,100)\n",
    "  data.append([new_img_array])\n",
    "#test_data.head()"
   ],
   "outputs": [],
   "metadata": {
    "execution": {
     "iopub.execute_input": "2021-08-06T11:15:00.642394Z",
     "iopub.status.busy": "2021-08-06T11:15:00.641849Z",
     "iopub.status.idle": "2021-08-06T11:15:15.054038Z",
     "shell.execute_reply": "2021-08-06T11:15:15.053536Z",
     "shell.execute_reply.started": "2021-08-06T11:09:13.013591Z"
    },
    "id": "iji8OaFF-fSp",
    "papermill": {
     "duration": 14.858078,
     "end_time": "2021-08-06T11:15:15.054170",
     "exception": false,
     "start_time": "2021-08-06T11:15:00.196092",
     "status": "completed"
    },
    "tags": []
   }
  },
  {
   "cell_type": "markdown",
   "source": [
    "## Data Pre-processing on test_data\n"
   ],
   "metadata": {
    "id": "ZqSujaW0CRi9",
    "papermill": {
     "duration": 0.411498,
     "end_time": "2021-08-06T11:15:15.886015",
     "exception": false,
     "start_time": "2021-08-06T11:15:15.474517",
     "status": "completed"
    },
    "tags": []
   }
  },
  {
   "cell_type": "code",
   "execution_count": 18,
   "source": [
    "data2 = pd.DataFrame(data)\n",
    "data2[0] = data2[0]/255.0\n",
    "X_test = data2[0]\n",
    "X_test = X_test.to_numpy()\n",
    "X_test_flat = []\n",
    "for i in range(len(X_test)):\n",
    "  #X_train[i] = X_train[i].reshape(1,10000)\n",
    "  X_test_flat.append(X_test[i])\n",
    "#X_train=X_train.reshape(len(X_train),10000)\n",
    "import numpy as np\n",
    "X_test_flat = np.array(X_test_flat).reshape(len(X_test),105, 105, 1)\n",
    "X_test_flat.shape"
   ],
   "outputs": [
    {
     "output_type": "execute_result",
     "data": {
      "text/plain": [
       "(2305, 105, 105, 1)"
      ]
     },
     "metadata": {},
     "execution_count": 18
    }
   ],
   "metadata": {
    "execution": {
     "iopub.execute_input": "2021-08-06T11:15:16.719163Z",
     "iopub.status.busy": "2021-08-06T11:15:16.718270Z",
     "iopub.status.idle": "2021-08-06T11:15:16.894960Z",
     "shell.execute_reply": "2021-08-06T11:15:16.894538Z",
     "shell.execute_reply.started": "2021-08-06T11:10:15.633145Z"
    },
    "id": "Wy7-NZ7TCiSQ",
    "papermill": {
     "duration": 0.595249,
     "end_time": "2021-08-06T11:15:16.895079",
     "exception": false,
     "start_time": "2021-08-06T11:15:16.299830",
     "status": "completed"
    },
    "tags": []
   }
  },
  {
   "cell_type": "markdown",
   "source": [
    "### Make Prediction on Test Dataset\n",
    "Time to make a submission!!!"
   ],
   "metadata": {
    "id": "AxtDS6-0J0s2",
    "papermill": {
     "duration": 0.411715,
     "end_time": "2021-08-06T11:15:17.719429",
     "exception": false,
     "start_time": "2021-08-06T11:15:17.307714",
     "status": "completed"
    },
    "tags": []
   }
  },
  {
   "cell_type": "code",
   "execution_count": 19,
   "source": [
    "y_test_pred = model.predict(X_test_flat)\n",
    "y_test_pred_label = []\n",
    "for i in range(len(y_test_pred)):\n",
    "    if(y_test_pred[i]>=0.5):\n",
    "        y_test_pred_label.append(1)\n",
    "    else:\n",
    "        y_test_pred_label.append(0)\n",
    "y_test_pred_label = pd.Series(y_test_pred_label)\n",
    "y_test_pred_label = y_test_pred_label.replace({0:'male',1:'female'})\n"
   ],
   "outputs": [],
   "metadata": {
    "execution": {
     "iopub.execute_input": "2021-08-06T11:15:18.566623Z",
     "iopub.status.busy": "2021-08-06T11:15:18.565529Z",
     "iopub.status.idle": "2021-08-06T11:15:19.155113Z",
     "shell.execute_reply": "2021-08-06T11:15:19.154025Z",
     "shell.execute_reply.started": "2021-08-06T11:10:19.315149Z"
    },
    "id": "yXLCDKVrJuzY",
    "papermill": {
     "duration": 1.012992,
     "end_time": "2021-08-06T11:15:19.155257",
     "exception": false,
     "start_time": "2021-08-06T11:15:18.142265",
     "status": "completed"
    },
    "tags": []
   }
  },
  {
   "cell_type": "markdown",
   "source": [
    "## **How to save prediciton results locally via jupyter notebook?**\n",
    "If you are working on Jupyter notebook, execute below block of codes. A file named 'submission.csv' will be created in your current working directory."
   ],
   "metadata": {
    "id": "THaqbN4LM6YX",
    "papermill": {
     "duration": 0.416159,
     "end_time": "2021-08-06T11:15:19.987900",
     "exception": false,
     "start_time": "2021-08-06T11:15:19.571741",
     "status": "completed"
    },
    "tags": []
   }
  },
  {
   "cell_type": "code",
   "execution_count": 20,
   "source": [
    "res = pd.DataFrame({'label': y_test_pred_label})\n",
    "res.to_csv(\"submission.csv\", index = False) "
   ],
   "outputs": [],
   "metadata": {
    "execution": {
     "iopub.execute_input": "2021-08-06T11:15:20.919926Z",
     "iopub.status.busy": "2021-08-06T11:15:20.919018Z",
     "iopub.status.idle": "2021-08-06T11:15:20.939027Z",
     "shell.execute_reply": "2021-08-06T11:15:20.939935Z",
     "shell.execute_reply.started": "2021-08-06T11:11:11.339237Z"
    },
    "id": "5I2wAC5RMwvJ",
    "papermill": {
     "duration": 0.53537,
     "end_time": "2021-08-06T11:15:20.940122",
     "exception": false,
     "start_time": "2021-08-06T11:15:20.404752",
     "status": "completed"
    },
    "tags": []
   }
  },
  {
   "cell_type": "markdown",
   "source": [
    "# **OR,**\n",
    "**If you are working on Google Colab then use the below set of code to save prediction results locally**"
   ],
   "metadata": {
    "id": "fquFjyl6OfGz",
    "papermill": {
     "duration": 0.570791,
     "end_time": "2021-08-06T11:15:22.233394",
     "exception": false,
     "start_time": "2021-08-06T11:15:21.662603",
     "status": "completed"
    },
    "tags": []
   }
  },
  {
   "cell_type": "markdown",
   "source": [
    "## **How to save prediction results locally via colab notebook?**\n",
    "If you are working on Google Colab Notebook, execute below block of codes. A file named 'prediction_results' will be downloaded in your system."
   ],
   "metadata": {
    "id": "ILu2PfzNOqLx",
    "papermill": {
     "duration": 0.461006,
     "end_time": "2021-08-06T11:15:23.142929",
     "exception": false,
     "start_time": "2021-08-06T11:15:22.681923",
     "status": "completed"
    },
    "tags": []
   }
  },
  {
   "cell_type": "code",
   "execution_count": null,
   "source": [],
   "outputs": [],
   "metadata": {
    "id": "FpcTFRw7NgXp",
    "outputId": "5a5a5e67-a3f0-4031-8ce2-3757a03b0e4b",
    "papermill": {
     "duration": 0.537896,
     "end_time": "2021-08-06T11:15:24.131540",
     "exception": false,
     "start_time": "2021-08-06T11:15:23.593644",
     "status": "completed"
    },
    "tags": []
   }
  },
  {
   "cell_type": "markdown",
   "source": [
    "# **Well Done! 👍**\n",
    "You are all set to make a submission. Let's head to the **[challenge page](https://dphi.tech/challenges/4-week-deep-learning-online-bootcamp-final-assignment-sex-determination-by-morphometry-of-eyes/144/submit)** to make the submission."
   ],
   "metadata": {
    "id": "NohZiMIkO_tX",
    "papermill": {
     "duration": 0.45313,
     "end_time": "2021-08-06T11:15:25.245317",
     "exception": false,
     "start_time": "2021-08-06T11:15:24.792187",
     "status": "completed"
    },
    "tags": []
   }
  }
 ],
 "metadata": {
  "kernelspec": {
   "display_name": "Python 3",
   "language": "python",
   "name": "python3"
  },
  "language_info": {
   "codemirror_mode": {
    "name": "ipython",
    "version": 3
   },
   "file_extension": ".py",
   "mimetype": "text/x-python",
   "name": "python",
   "nbconvert_exporter": "python",
   "pygments_lexer": "ipython3",
   "version": "3.7.10"
  },
  "papermill": {
   "default_parameters": {},
   "duration": 233.910226,
   "end_time": "2021-08-06T11:15:28.558107",
   "environment_variables": {},
   "exception": null,
   "input_path": "__notebook__.ipynb",
   "output_path": "__notebook__.ipynb",
   "parameters": {},
   "start_time": "2021-08-06T11:11:34.647881",
   "version": "2.3.3"
  }
 },
 "nbformat": 4,
 "nbformat_minor": 5
}